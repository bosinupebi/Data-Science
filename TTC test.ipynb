{
 "cells": [
  {
   "cell_type": "code",
   "execution_count": 340,
   "metadata": {},
   "outputs": [],
   "source": [
    "import pandas as pd\n",
    "import random\n",
    "import matplotlib.pyplot as plt\n",
    "import seaborn as sns\n",
    "%matplotlib inline\n",
    "import numpy as np\n",
    "import codecs\n",
    "import datetime\n",
    "from sklearn.model_selection import train_test_split\n",
    "from sklearn.neighbors import KNeighborsClassifier\n",
    "from sklearn.metrics import accuracy_score\n",
    "from sklearn.datasets import load_iris\n",
    "from sklearn.linear_model import LinearRegression"
   ]
  },
  {
   "cell_type": "code",
   "execution_count": 478,
   "metadata": {},
   "outputs": [],
   "source": [
    "#with open('March21.csv', 'r', encoding='mac_roman', newline='') as csvfile:\n",
    "file = 'Bus2.xlsx'\n",
    "df=pd.read_excel(file)"
   ]
  },
  {
   "cell_type": "code",
   "execution_count": 479,
   "metadata": {},
   "outputs": [
    {
     "data": {
      "text/html": [
       "<div>\n",
       "<style scoped>\n",
       "    .dataframe tbody tr th:only-of-type {\n",
       "        vertical-align: middle;\n",
       "    }\n",
       "\n",
       "    .dataframe tbody tr th {\n",
       "        vertical-align: top;\n",
       "    }\n",
       "\n",
       "    .dataframe thead th {\n",
       "        text-align: right;\n",
       "    }\n",
       "</style>\n",
       "<table border=\"1\" class=\"dataframe\">\n",
       "  <thead>\n",
       "    <tr style=\"text-align: right;\">\n",
       "      <th></th>\n",
       "      <th>Day</th>\n",
       "      <th>Location</th>\n",
       "      <th>Incident</th>\n",
       "      <th>Min Delay</th>\n",
       "      <th>Min Gap</th>\n",
       "      <th>Direction</th>\n",
       "      <th>Vehicle</th>\n",
       "    </tr>\n",
       "  </thead>\n",
       "  <tbody>\n",
       "    <tr>\n",
       "      <th>0</th>\n",
       "      <td>Monday</td>\n",
       "      <td>Wilson Stn</td>\n",
       "      <td>Mechanical</td>\n",
       "      <td>10.0</td>\n",
       "      <td>20.0</td>\n",
       "      <td>W/B</td>\n",
       "      <td>1291.0</td>\n",
       "    </tr>\n",
       "    <tr>\n",
       "      <th>1</th>\n",
       "      <td>Monday</td>\n",
       "      <td>Birchmount Garage</td>\n",
       "      <td>Utilized Off Route</td>\n",
       "      <td>1.0</td>\n",
       "      <td>1.0</td>\n",
       "      <td>S/B</td>\n",
       "      <td>8123.0</td>\n",
       "    </tr>\n",
       "    <tr>\n",
       "      <th>2</th>\n",
       "      <td>Monday</td>\n",
       "      <td>Davisville Station</td>\n",
       "      <td>Investigation</td>\n",
       "      <td>30.0</td>\n",
       "      <td>60.0</td>\n",
       "      <td>S/B</td>\n",
       "      <td>8306.0</td>\n",
       "    </tr>\n",
       "    <tr>\n",
       "      <th>3</th>\n",
       "      <td>Monday</td>\n",
       "      <td>Kennedy Station</td>\n",
       "      <td>Mechanical</td>\n",
       "      <td>22.0</td>\n",
       "      <td>44.0</td>\n",
       "      <td>S/B</td>\n",
       "      <td>7777.0</td>\n",
       "    </tr>\n",
       "    <tr>\n",
       "      <th>4</th>\n",
       "      <td>Monday</td>\n",
       "      <td>SWST</td>\n",
       "      <td>Mechanical</td>\n",
       "      <td>10.0</td>\n",
       "      <td>20.0</td>\n",
       "      <td>W/B</td>\n",
       "      <td>8453.0</td>\n",
       "    </tr>\n",
       "  </tbody>\n",
       "</table>\n",
       "</div>"
      ],
      "text/plain": [
       "      Day            Location            Incident  Min Delay  Min Gap  \\\n",
       "0  Monday          Wilson Stn          Mechanical       10.0     20.0   \n",
       "1  Monday   Birchmount Garage  Utilized Off Route        1.0      1.0   \n",
       "2  Monday  Davisville Station       Investigation       30.0     60.0   \n",
       "3  Monday     Kennedy Station          Mechanical       22.0     44.0   \n",
       "4  Monday                SWST          Mechanical       10.0     20.0   \n",
       "\n",
       "  Direction  Vehicle  \n",
       "0       W/B   1291.0  \n",
       "1       S/B   8123.0  \n",
       "2       S/B   8306.0  \n",
       "3       S/B   7777.0  \n",
       "4       W/B   8453.0  "
      ]
     },
     "execution_count": 479,
     "metadata": {},
     "output_type": "execute_result"
    }
   ],
   "source": [
    "df.head()"
   ]
  },
  {
   "cell_type": "code",
   "execution_count": 480,
   "metadata": {},
   "outputs": [
    {
     "data": {
      "text/plain": [
       "Day             0\n",
       "Location       57\n",
       "Incident        0\n",
       "Min Delay      34\n",
       "Min Gap        86\n",
       "Direction       0\n",
       "Vehicle      5996\n",
       "dtype: int64"
      ]
     },
     "execution_count": 480,
     "metadata": {},
     "output_type": "execute_result"
    }
   ],
   "source": [
    "df.isna().sum()"
   ]
  },
  {
   "cell_type": "code",
   "execution_count": 481,
   "metadata": {},
   "outputs": [],
   "source": [
    "df['Min Delay']=df['Min Delay'].fillna(0)"
   ]
  },
  {
   "cell_type": "code",
   "execution_count": 482,
   "metadata": {},
   "outputs": [],
   "source": [
    "df['Min Gap']=df['Min Gap'].fillna(0)"
   ]
  },
  {
   "cell_type": "code",
   "execution_count": 483,
   "metadata": {},
   "outputs": [],
   "source": [
    "df['Vehicle']=df['Vehicle'].fillna(0)"
   ]
  },
  {
   "cell_type": "code",
   "execution_count": 484,
   "metadata": {},
   "outputs": [],
   "source": [
    "#df['Direction']=df['Direction'].fillna('BW')"
   ]
  },
  {
   "cell_type": "code",
   "execution_count": 485,
   "metadata": {},
   "outputs": [],
   "source": [
    "df['Day'] = df['Day'].map({'Monday': 1, 'Tuesday': 2,'Wednesday':3,'Thursday':4,'Friday':5,'Saturday':6,'Sunday':7})"
   ]
  },
  {
   "cell_type": "code",
   "execution_count": 486,
   "metadata": {},
   "outputs": [],
   "source": [
    "df['Incident'] = df['Incident'].map({'Mechanical': 1, 'Investigation': 2,'Utilized Off Route':3,'Late Leaving Garage':4,'Diversion':5,'Emergency Services':6,'General Delay':7})"
   ]
  },
  {
   "cell_type": "code",
   "execution_count": 487,
   "metadata": {},
   "outputs": [],
   "source": [
    "df['Direction']=df['Direction'].map({'W/B':'WB','B/W':'BW','E/B':'EB','N/B':'NB','S/B':'SB'})"
   ]
  },
  {
   "cell_type": "code",
   "execution_count": 488,
   "metadata": {},
   "outputs": [],
   "source": [
    "df['Direction']=df['Direction'].map({'WB':1,'EB':2,'SB':3,'NB':4,'BW':5})"
   ]
  },
  {
   "cell_type": "code",
   "execution_count": 489,
   "metadata": {},
   "outputs": [
    {
     "data": {
      "text/html": [
       "<div>\n",
       "<style scoped>\n",
       "    .dataframe tbody tr th:only-of-type {\n",
       "        vertical-align: middle;\n",
       "    }\n",
       "\n",
       "    .dataframe tbody tr th {\n",
       "        vertical-align: top;\n",
       "    }\n",
       "\n",
       "    .dataframe thead th {\n",
       "        text-align: right;\n",
       "    }\n",
       "</style>\n",
       "<table border=\"1\" class=\"dataframe\">\n",
       "  <thead>\n",
       "    <tr style=\"text-align: right;\">\n",
       "      <th></th>\n",
       "      <th>Day</th>\n",
       "      <th>Location</th>\n",
       "      <th>Incident</th>\n",
       "      <th>Min Delay</th>\n",
       "      <th>Min Gap</th>\n",
       "      <th>Direction</th>\n",
       "      <th>Vehicle</th>\n",
       "    </tr>\n",
       "  </thead>\n",
       "  <tbody>\n",
       "    <tr>\n",
       "      <th>36435</th>\n",
       "      <td>6</td>\n",
       "      <td>Brimley and St Clair</td>\n",
       "      <td>5</td>\n",
       "      <td>22.0</td>\n",
       "      <td>44.0</td>\n",
       "      <td>2.0</td>\n",
       "      <td>8925.0</td>\n",
       "    </tr>\n",
       "    <tr>\n",
       "      <th>36436</th>\n",
       "      <td>6</td>\n",
       "      <td>Finch Station</td>\n",
       "      <td>1</td>\n",
       "      <td>30.0</td>\n",
       "      <td>60.0</td>\n",
       "      <td>2.0</td>\n",
       "      <td>8358.0</td>\n",
       "    </tr>\n",
       "    <tr>\n",
       "      <th>36437</th>\n",
       "      <td>6</td>\n",
       "      <td>Greenwin Village</td>\n",
       "      <td>3</td>\n",
       "      <td>10.0</td>\n",
       "      <td>20.0</td>\n",
       "      <td>3.0</td>\n",
       "      <td>8322.0</td>\n",
       "    </tr>\n",
       "    <tr>\n",
       "      <th>36438</th>\n",
       "      <td>6</td>\n",
       "      <td>Wilson Station</td>\n",
       "      <td>2</td>\n",
       "      <td>10.0</td>\n",
       "      <td>20.0</td>\n",
       "      <td>3.0</td>\n",
       "      <td>9040.0</td>\n",
       "    </tr>\n",
       "    <tr>\n",
       "      <th>36439</th>\n",
       "      <td>6</td>\n",
       "      <td>Queen</td>\n",
       "      <td>1</td>\n",
       "      <td>20.0</td>\n",
       "      <td>40.0</td>\n",
       "      <td>4.0</td>\n",
       "      <td>1269.0</td>\n",
       "    </tr>\n",
       "  </tbody>\n",
       "</table>\n",
       "</div>"
      ],
      "text/plain": [
       "       Day              Location  Incident  Min Delay  Min Gap  Direction  \\\n",
       "36435    6  Brimley and St Clair         5       22.0     44.0        2.0   \n",
       "36436    6         Finch Station         1       30.0     60.0        2.0   \n",
       "36437    6      Greenwin Village         3       10.0     20.0        3.0   \n",
       "36438    6        Wilson Station         2       10.0     20.0        3.0   \n",
       "36439    6                 Queen         1       20.0     40.0        4.0   \n",
       "\n",
       "       Vehicle  \n",
       "36435   8925.0  \n",
       "36436   8358.0  \n",
       "36437   8322.0  \n",
       "36438   9040.0  \n",
       "36439   1269.0  "
      ]
     },
     "execution_count": 489,
     "metadata": {},
     "output_type": "execute_result"
    }
   ],
   "source": [
    "df.tail()"
   ]
  },
  {
   "cell_type": "code",
   "execution_count": 490,
   "metadata": {},
   "outputs": [
    {
     "data": {
      "text/plain": [
       "Day             0\n",
       "Location       57\n",
       "Incident        0\n",
       "Min Delay       0\n",
       "Min Gap         0\n",
       "Direction    1825\n",
       "Vehicle         0\n",
       "dtype: int64"
      ]
     },
     "execution_count": 490,
     "metadata": {},
     "output_type": "execute_result"
    }
   ],
   "source": [
    "df.isna().sum()"
   ]
  },
  {
   "cell_type": "code",
   "execution_count": 491,
   "metadata": {},
   "outputs": [],
   "source": [
    "df = df.dropna()"
   ]
  },
  {
   "cell_type": "code",
   "execution_count": 492,
   "metadata": {},
   "outputs": [
    {
     "data": {
      "text/plain": [
       "Day          0\n",
       "Location     0\n",
       "Incident     0\n",
       "Min Delay    0\n",
       "Min Gap      0\n",
       "Direction    0\n",
       "Vehicle      0\n",
       "dtype: int64"
      ]
     },
     "execution_count": 492,
     "metadata": {},
     "output_type": "execute_result"
    }
   ],
   "source": [
    "df.isna().sum()"
   ]
  },
  {
   "cell_type": "code",
   "execution_count": 501,
   "metadata": {},
   "outputs": [],
   "source": [
    "X = np.array(df[['Min Gap','Incident','Day','Direction']])#prepare the independent variables for knn\n",
    "y=np.array(df['Min Delay'])#prepare the dependent variables for knn\n",
    "X_train,X_test,y_train,y_test=train_test_split(X,y,test_size=0.3)#train/test split of the dataset\n",
    "knn = KNeighborsClassifier(n_neighbors=20)#instatiate the model"
   ]
  },
  {
   "cell_type": "code",
   "execution_count": 502,
   "metadata": {},
   "outputs": [],
   "source": [
    "knn.fit(X_train,y_train) #fit the model using the train data\n",
    "y_pred=knn.predict(X_test) #run predictions of the classification based on test data and assign y_pred"
   ]
  },
  {
   "cell_type": "code",
   "execution_count": 503,
   "metadata": {},
   "outputs": [
    {
     "name": "stdout",
     "output_type": "stream",
     "text": [
      "k = 1\n",
      "Average correct predictions:  4345.0\n",
      "Average false predictions: 2540.1666666666665\n",
      "Average accuracy score: 0.631\n",
      "\n",
      "k = 3\n",
      "Average correct predictions:  5736.5\n",
      "Average false predictions: 2719.5\n",
      "Average accuracy score: 0.6784\n",
      "\n",
      "k = 5\n",
      "Average correct predictions:  3927.1666666666665\n",
      "Average false predictions: 1716.0\n",
      "Average accuracy score: 0.6963\n",
      "\n",
      "k = 7\n",
      "Average correct predictions:  4726.666666666667\n",
      "Average false predictions: 2033.1666666666667\n",
      "Average accuracy score: 0.7\n",
      "\n",
      "k = 9\n",
      "Average correct predictions:  4919.333333333333\n",
      "Average false predictions: 2103.0\n",
      "Average accuracy score: 0.7005\n",
      "\n",
      "k = 11\n",
      "Average correct predictions:  4667.166666666667\n",
      "Average false predictions: 1964.5\n",
      "Average accuracy score: 0.7038\n",
      "\n",
      "k = 13\n",
      "Average correct predictions:  4164.0\n",
      "Average false predictions: 1774.6666666666667\n",
      "Average accuracy score: 0.7018\n",
      "\n",
      "k = 15\n",
      "Average correct predictions:  5458.166666666667\n",
      "Average false predictions: 2290.3333333333335\n",
      "Average accuracy score: 0.7043\n",
      "\n",
      "k = 17\n",
      "Average correct predictions:  4906.5\n",
      "Average false predictions: 2077.0\n",
      "Average accuracy score: 0.7028\n",
      "\n",
      "k = 19\n",
      "Average correct predictions:  4349.333333333333\n",
      "Average false predictions: 1823.0\n",
      "Average accuracy score: 0.7042\n",
      "\n",
      "k = 21\n",
      "Average correct predictions:  5320.5\n",
      "Average false predictions: 2207.1666666666665\n",
      "Average accuracy score: 0.7071\n",
      "\n",
      "k = 23\n",
      "Average correct predictions:  5178.166666666667\n",
      "Average false predictions: 2223.8333333333335\n",
      "Average accuracy score: 0.6993\n",
      "\n",
      "k = 25\n",
      "Average correct predictions:  4864.666666666667\n",
      "Average false predictions: 2059.0\n",
      "Average accuracy score: 0.7027\n",
      "\n",
      "k = 27\n",
      "Average correct predictions:  4740.0\n",
      "Average false predictions: 2015.6666666666667\n",
      "Average accuracy score: 0.7019\n",
      "\n",
      "k = 29\n",
      "Average correct predictions:  5343.833333333333\n",
      "Average false predictions: 2288.3333333333335\n",
      "Average accuracy score: 0.7001\n",
      "\n",
      "k = 31\n",
      "Average correct predictions:  4908.0\n",
      "Average false predictions: 2067.1666666666665\n",
      "Average accuracy score: 0.7042\n",
      "\n",
      "k = 33\n",
      "Average correct predictions:  5974.833333333333\n",
      "Average false predictions: 2579.0\n",
      "Average accuracy score: 0.6988\n",
      "\n",
      "k = 35\n",
      "Average correct predictions:  5430.5\n",
      "Average false predictions: 2345.6666666666665\n",
      "Average accuracy score: 0.6986\n",
      "\n",
      "k = 37\n",
      "Average correct predictions:  4923.666666666667\n",
      "Average false predictions: 2103.1666666666665\n",
      "Average accuracy score: 0.7018\n",
      "\n",
      "k = 39\n",
      "Average correct predictions:  5711.666666666667\n",
      "Average false predictions: 2462.1666666666665\n",
      "Average accuracy score: 0.6989\n",
      "\n"
     ]
    }
   ],
   "source": [
    "k = range(1,40,2)\n",
    "avg_nz=[] #average non zero predictions\n",
    "avg_z=[] #average false predictions\n",
    "avg_score= [] #average accuracy score\n",
    "#2 loops to iterate through each random train/test split and each neareat neighbour value\n",
    "for i in k:\n",
    "    split=np.random.uniform(low=0.1, high=0.3, size=(6))#train/test splits criteria\n",
    "    score=[] \n",
    "    nz=[] \n",
    "    z=[]\n",
    "    print('k =',i)\n",
    "    for j in split:\n",
    "        knn1 = KNeighborsClassifier(n_neighbors=i) \n",
    "        X_train,X_test,y_train,y_test=train_test_split(X,y,test_size=j) \n",
    "        knn1.fit(X_train,y_train)\n",
    "        y_pred=knn1.predict(X_test) \n",
    "        nz.append(np.count_nonzero(y_test==y_pred)) \n",
    "        z.append(np.count_nonzero(y_test!=y_pred))\n",
    "        score.append(accuracy_score(y_test,y_pred)) \n",
    "    avg_score.append(np.mean(score))\n",
    "    avg_z.append(np.mean(z))\n",
    "    avg_nz.append(np.mean(nz)) \n",
    "    print(\"Average correct predictions: \", np.mean(nz))\n",
    "    print('Average false predictions:',np.mean(z))\n",
    "    print(\"Average accuracy score:\", round(np.mean(score),4))\n",
    "    print(\"\")"
   ]
  },
  {
   "cell_type": "code",
   "execution_count": 504,
   "metadata": {},
   "outputs": [
    {
     "data": {
      "text/plain": [
       "[<matplotlib.lines.Line2D at 0x1a1ebb5240>]"
      ]
     },
     "execution_count": 504,
     "metadata": {},
     "output_type": "execute_result"
    },
    {
     "data": {
      "image/png": "[encoded data removed]",
      "text/plain": [
       "<Figure size 432x288 with 1 Axes>"
      ]
     },
     "metadata": {
      "needs_background": "light"
     },
     "output_type": "display_data"
    }
   ],
   "source": [
    "plt.plot(k,avg_score)"
   ]
  },
  {
   "cell_type": "code",
   "execution_count": null,
   "metadata": {},
   "outputs": [],
   "source": []
  }
 ],
 "metadata": {
  "kernelspec": {
   "display_name": "Python 3",
   "language": "python",
   "name": "python3"
  },
  "language_info": {
   "codemirror_mode": {
    "name": "ipython",
    "version": 3
   },
   "file_extension": ".py",
   "mimetype": "text/x-python",
   "name": "python",
   "nbconvert_exporter": "python",
   "pygments_lexer": "ipython3",
   "version": "3.7.1"
  }
 },
 "nbformat": 4,
 "nbformat_minor": 2
}
