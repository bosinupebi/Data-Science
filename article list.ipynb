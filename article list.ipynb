{
 "cells": [
  {
   "cell_type": "code",
   "execution_count": null,
   "metadata": {},
   "outputs": [],
   "source": []
  },
  {
   "cell_type": "code",
   "execution_count": 3,
   "metadata": {},
   "outputs": [],
   "source": [
    "import requests\n",
    "import csv\n",
    "import unicodedata"
   ]
  },
  {
   "cell_type": "code",
   "execution_count": 4,
   "metadata": {},
   "outputs": [
    {
     "name": "stdout",
     "output_type": "stream",
     "text": [
      "https://condocontrolcentral.zendesk.com/api/v2/help_center/en-us/articles.json?page=2&per_page=30&sort_by=title&sort_order=asc\n",
      "https://condocontrolcentral.zendesk.com/api/v2/help_center/en-us/articles.json?page=3&per_page=30&sort_by=title&sort_order=asc\n",
      "https://condocontrolcentral.zendesk.com/api/v2/help_center/en-us/articles.json?page=4&per_page=30&sort_by=title&sort_order=asc\n",
      "https://condocontrolcentral.zendesk.com/api/v2/help_center/en-us/articles.json?page=5&per_page=30&sort_by=title&sort_order=asc\n",
      "https://condocontrolcentral.zendesk.com/api/v2/help_center/en-us/articles.json?page=6&per_page=30&sort_by=title&sort_order=asc\n",
      "https://condocontrolcentral.zendesk.com/api/v2/help_center/en-us/articles.json?page=7&per_page=30&sort_by=title&sort_order=asc\n",
      "https://condocontrolcentral.zendesk.com/api/v2/help_center/en-us/articles.json?page=8&per_page=30&sort_by=title&sort_order=asc\n",
      "https://condocontrolcentral.zendesk.com/api/v2/help_center/en-us/articles.json?page=9&per_page=30&sort_by=title&sort_order=asc\n",
      "https://condocontrolcentral.zendesk.com/api/v2/help_center/en-us/articles.json?page=10&per_page=30&sort_by=title&sort_order=asc\n",
      "https://condocontrolcentral.zendesk.com/api/v2/help_center/en-us/articles.json?page=11&per_page=30&sort_by=title&sort_order=asc\n",
      "https://condocontrolcentral.zendesk.com/api/v2/help_center/en-us/articles.json?page=12&per_page=30&sort_by=title&sort_order=asc\n",
      "https://condocontrolcentral.zendesk.com/api/v2/help_center/en-us/articles.json?page=13&per_page=30&sort_by=title&sort_order=asc\n",
      "https://condocontrolcentral.zendesk.com/api/v2/help_center/en-us/articles.json?page=14&per_page=30&sort_by=title&sort_order=asc\n",
      "https://condocontrolcentral.zendesk.com/api/v2/help_center/en-us/articles.json?page=15&per_page=30&sort_by=title&sort_order=asc\n",
      "https://condocontrolcentral.zendesk.com/api/v2/help_center/en-us/articles.json?page=16&per_page=30&sort_by=title&sort_order=asc\n",
      "https://condocontrolcentral.zendesk.com/api/v2/help_center/en-us/articles.json?page=17&per_page=30&sort_by=title&sort_order=asc\n",
      "https://condocontrolcentral.zendesk.com/api/v2/help_center/en-us/articles.json?page=18&per_page=30&sort_by=title&sort_order=asc\n",
      "https://condocontrolcentral.zendesk.com/api/v2/help_center/en-us/articles.json?page=19&per_page=30&sort_by=title&sort_order=asc\n",
      "https://condocontrolcentral.zendesk.com/api/v2/help_center/en-us/articles.json?page=20&per_page=30&sort_by=title&sort_order=asc\n",
      "https://condocontrolcentral.zendesk.com/api/v2/help_center/en-us/articles.json?page=21&per_page=30&sort_by=title&sort_order=asc\n",
      "None\n",
      "Number of articles:\n",
      "614\n"
     ]
    }
   ],
   "source": [
    "\n",
    "# Set the request parameters\n",
    "# Change the URL according to what information is desired. \n",
    "\n",
    "\n",
    "url = 'https://condocontrolcentral.zendesk.com/api/v2/help_center/en-us/articles.json?sort_by=title&sort_order=asc'\n",
    "\n",
    "# Use Your Zendesk Support Sign-On Credentials\n",
    "user = \n",
    "pwd = \n",
    "\n",
    "# Path of the outputted csv file\n",
    "csvfile = 'Desktop/blue.csv'\n",
    "\n",
    "output = []\n",
    "while url:\n",
    "        response = requests.get(url, auth = (user, pwd))\n",
    "        data = response.json()\n",
    "        for article in data['articles']:\n",
    "                article_url = article['html_url']\n",
    "                decode = unicodedata.normalize('NFKD', article_url).encode('ascii','ignore')\n",
    "                output.append(decode)\n",
    "        print(data['next_page'])\n",
    "        url = data['next_page']\n",
    "\n",
    "# Print number of articles\n",
    "print(\"Number of articles:\")\n",
    "print (len(output))\n",
    "\n",
    "#Write to a csv file\n",
    "with open(csvfile, 'w') as fp:\n",
    "    writer = csv.writer(fp, dialect = 'excel')\n",
    "    writer.writerows([output])\n"
   ]
  },
  {
   "cell_type": "code",
   "execution_count": null,
   "metadata": {},
   "outputs": [],
   "source": []
  }
 ],
 "metadata": {
  "kernelspec": {
   "display_name": "Python 3",
   "language": "python",
   "name": "python3"
  },
  "language_info": {
   "codemirror_mode": {
    "name": "ipython",
    "version": 3
   },
   "file_extension": ".py",
   "mimetype": "text/x-python",
   "name": "python",
   "nbconvert_exporter": "python",
   "pygments_lexer": "ipython3",
   "version": "3.7.1"
  }
 },
 "nbformat": 4,
 "nbformat_minor": 2
}
