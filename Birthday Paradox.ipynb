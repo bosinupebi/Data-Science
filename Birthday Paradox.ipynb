{
 "cells": [
  {
   "cell_type": "code",
   "execution_count": 28,
   "metadata": {},
   "outputs": [],
   "source": [
    "import random\n",
    "import math\n",
    "def has_duplicates(t): #check for duplicates in a list of random integers\n",
    "    global g\n",
    "    cates =[]\n",
    "    s = t[:]\n",
    "    s.sort() #arrange integers in order, makes finding a match easier\n",
    "    for i in range(len(s)-1):\n",
    "        if s[i] == s[i+1]: #if there's a match\n",
    "            g = s[i+1] #assign duplicate date to g\n",
    "            return True\n",
    "    return False"
   ]
  },
  {
   "cell_type": "code",
   "execution_count": 29,
   "metadata": {},
   "outputs": [],
   "source": [
    "def random_bdays(n): \n",
    "    t = []\n",
    "    for i in range(n):\n",
    "        bday = random.randint(1, 365) #generate random integers btwn 1 & 365\n",
    "        t.append(bday)\n",
    "    return t"
   ]
  },
  {
   "cell_type": "code",
   "execution_count": 30,
   "metadata": {},
   "outputs": [],
   "source": [
    "def count_matches(students, samples): #check how many times theres a match over the simulation range\n",
    "    global duplicate\n",
    "    counts = 0\n",
    "    duplicate = [] #initialize empty list\n",
    "    for i in range(samples):\n",
    "        t = random_bdays(students)\n",
    "        if has_duplicates(t):\n",
    "            counts += 1\n",
    "            duplicate.append(g) #append value of g each simulation\n",
    "    return counts "
   ]
  },
  {
   "cell_type": "code",
   "execution_count": 36,
   "metadata": {},
   "outputs": [
    {
     "name": "stdout",
     "output_type": "stream",
     "text": [
      "probability is, 94.098\n",
      "After 300 simulations\n",
      "with 45 students\n",
      "there were 282 simulations with at least one match\n",
      "282\n",
      "Duplicate dates: [38, 129, 83, 188, 244, 207, 39, 45, 50, 307, 113, 357, 71, 4, 53, 37, 63, 23, 312, 319, 172, 231, 7, 222, 4, 7, 86, 135, 84, 5, 81, 176, 55, 1, 152, 171, 116, 10, 52, 57, 93, 43, 114, 138, 59, 58, 202, 133, 91, 89, 212, 114, 99, 26, 234, 110, 3, 19, 74, 44, 60, 174, 192, 229, 64, 192, 158, 106, 167, 125, 201, 46, 85, 153, 187, 260, 125, 44, 169, 227, 126, 167, 9, 320, 44, 44, 129, 4, 21, 6, 21, 108, 67, 28, 25, 264, 7, 51, 143, 269, 355, 53, 203, 23, 1, 14, 68, 339, 119, 251, 285, 36, 34, 216, 54, 285, 10, 15, 314, 29, 309, 35, 179, 128, 234, 191, 4, 89, 109, 12, 100, 52, 107, 24, 11, 29, 22, 17, 17, 139, 48, 210, 92, 23, 25, 48, 38, 91, 102, 81, 9, 179, 169, 109, 40, 51, 5, 213, 14, 80, 295, 301, 150, 13, 33, 81, 179, 161, 98, 42, 136, 218, 200, 310, 55, 335, 52, 35, 182, 40, 38, 2, 3, 219, 200, 220, 64, 345, 38, 86, 72, 179, 5, 52, 168, 64, 238, 60, 26, 265, 81, 107, 125, 90, 29, 189, 228, 31, 89, 169, 5, 166, 229, 193, 257, 358, 11, 72, 54, 29, 118, 179, 34, 35, 177, 93, 10, 73, 101, 76, 55, 289, 148, 4, 33, 131, 161, 4, 10, 161, 111, 59, 125, 29, 158, 94, 219, 44, 78, 4, 81, 92, 61, 100, 22, 48, 279, 223, 240, 148, 39, 118, 89, 31, 47, 148, 285, 173, 139, 88, 66, 66, 52, 234, 3, 140, 69, 151, 127, 134, 91, 17]\n"
     ]
    }
   ],
   "source": [
    "students = 45\n",
    "simulations = 300\n",
    "year = 365\n",
    "count = count_matches(students, simulations)\n",
    "pr =  math.factorial(year)/((year**students)*(math.factorial(year-students)))\n",
    "probability = (1- pr)*100\n",
    "print ('probability is, ' + str(round(probability,3)))\n",
    "print ('After %d simulations' % simulations)\n",
    "print ('with %d students' % students)\n",
    "print ('there were %d simulations with at least one match' % count)\n",
    "print('Duplicate dates:', duplicate)"
   ]
  },
  {
   "cell_type": "code",
   "execution_count": null,
   "metadata": {},
   "outputs": [],
   "source": []
  },
  {
   "cell_type": "code",
   "execution_count": null,
   "metadata": {},
   "outputs": [],
   "source": []
  },
  {
   "cell_type": "code",
   "execution_count": null,
   "metadata": {},
   "outputs": [],
   "source": []
  },
  {
   "cell_type": "code",
   "execution_count": null,
   "metadata": {},
   "outputs": [],
   "source": []
  }
 ],
 "metadata": {
  "kernelspec": {
   "display_name": "Python 3",
   "language": "python",
   "name": "python3"
  },
  "language_info": {
   "codemirror_mode": {
    "name": "ipython",
    "version": 3
   },
   "file_extension": ".py",
   "mimetype": "text/x-python",
   "name": "python",
   "nbconvert_exporter": "python",
   "pygments_lexer": "ipython3",
   "version": "3.7.1"
  }
 },
 "nbformat": 4,
 "nbformat_minor": 2
}
