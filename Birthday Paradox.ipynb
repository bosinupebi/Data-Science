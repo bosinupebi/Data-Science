{
 "cells": [
  {
   "cell_type": "code",
   "execution_count": 15,
   "metadata": {},
   "outputs": [],
   "source": [
    "import random\n",
    "import math\n",
    "def has_duplicates(t):\n",
    "    s = t[:]\n",
    "    s.sort()\n",
    "    duplicates = []\n",
    "    for i in range(len(s)-1):\n",
    "        if s[i] == s[i+1]:\n",
    "            duplicates.append(s[i+1])\n",
    "            print ('duplicate date' + str (duplicates))\n",
    "            return True\n",
    "    return False"
   ]
  },
  {
   "cell_type": "code",
   "execution_count": 16,
   "metadata": {},
   "outputs": [],
   "source": [
    "def random_bdays(n):\n",
    "    t = []\n",
    "    for i in range(n):\n",
    "        bday = random.randint(1, 365)\n",
    "        t.append(bday)\n",
    "    return t"
   ]
  },
  {
   "cell_type": "code",
   "execution_count": 17,
   "metadata": {},
   "outputs": [],
   "source": [
    "def count_matches(students, samples):\n",
    "    count = 0\n",
    "    for i in range(samples):\n",
    "        t = random_bdays(students)\n",
    "        if has_duplicates(t):\n",
    "            count += 1\n",
    "    return count"
   ]
  },
  {
   "cell_type": "code",
   "execution_count": null,
   "metadata": {},
   "outputs": [],
   "source": []
  },
  {
   "cell_type": "code",
   "execution_count": 67,
   "metadata": {},
   "outputs": [
    {
     "name": "stdout",
     "output_type": "stream",
     "text": [
      "probability is, 50.73\n",
      "After 50 simulations\n",
      "with 23 students\n",
      "duplicate date[90]\n",
      "duplicate date[4]\n",
      "duplicate date[324]\n",
      "duplicate date[296]\n",
      "duplicate date[244]\n",
      "duplicate date[176]\n",
      "duplicate date[12]\n",
      "duplicate date[146]\n",
      "duplicate date[224]\n",
      "duplicate date[325]\n",
      "duplicate date[255]\n",
      "duplicate date[40]\n",
      "duplicate date[169]\n",
      "duplicate date[18]\n",
      "duplicate date[34]\n",
      "duplicate date[365]\n",
      "duplicate date[63]\n",
      "duplicate date[136]\n",
      "duplicate date[102]\n",
      "duplicate date[208]\n",
      "duplicate date[279]\n",
      "duplicate date[193]\n",
      "there were 22 matches\n"
     ]
    }
   ],
   "source": [
    "students = 23\n",
    "simulations = 50\n",
    "year = 365\n",
    "pro =  math.factorial(year)/((year**students)*(math.factorial(year-students)))\n",
    "probability = (1- pro)*100\n",
    "print ('probability is, ' + str(round(probability,3)))\n",
    "print ('After %d simulations' % simulations)\n",
    "print ('with %d students' % students)\n",
    "print ('there were ' + str(count_matches(students,simulations)) + ' matches')"
   ]
  },
  {
   "cell_type": "code",
   "execution_count": null,
   "metadata": {},
   "outputs": [],
   "source": []
  },
  {
   "cell_type": "code",
   "execution_count": null,
   "metadata": {},
   "outputs": [],
   "source": []
  },
  {
   "cell_type": "code",
   "execution_count": null,
   "metadata": {},
   "outputs": [],
   "source": []
  }
 ],
 "metadata": {
  "kernelspec": {
   "display_name": "Python 3",
   "language": "python",
   "name": "python3"
  },
  "language_info": {
   "codemirror_mode": {
    "name": "ipython",
    "version": 3
   },
   "file_extension": ".py",
   "mimetype": "text/x-python",
   "name": "python",
   "nbconvert_exporter": "python",
   "pygments_lexer": "ipython3",
   "version": "3.7.1"
  }
 },
 "nbformat": 4,
 "nbformat_minor": 2
}
