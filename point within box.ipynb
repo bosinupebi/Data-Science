{
 "cells": [
  {
   "cell_type": "code",
   "execution_count": 1,
   "metadata": {},
   "outputs": [
    {
     "data": {
      "text/plain": [
       "('countA is 6', 'countC is 4', 'countT is 6', 'countG is 5')"
      ]
     },
     "execution_count": 1,
     "metadata": {},
     "output_type": "execute_result"
    }
   ],
   "source": [
    "#Q1\n",
    "DNA = \"ATGCTTCAGAAAGGTCTTACG\"\n",
    "countA = 0 \n",
    "countT = 0 \n",
    "countC = 0 \n",
    "countG = 0 \n",
    "for letter in DNA: #loop to traverse string\n",
    "    if letter == 'A': #count how many times A appears\n",
    "        countA+=1\n",
    "    elif letter == 'C': #count how many times C appears\n",
    "        countC+=1\n",
    "    elif letter == 'T':#count how many times T appears\n",
    "        countT +=1\n",
    "    elif letter == 'G': #count how many times G appears\n",
    "        countG+=1\n",
    "print \n",
    "('countA is ' + str(countA),'countC is '+ str(countC),'countT is '+ str(countT),'countG is '+ str(countG))"
   ]
  },
  {
   "cell_type": "code",
   "execution_count": 4,
   "metadata": {},
   "outputs": [],
   "source": [
    "#Q2\n",
    "capitals={\n",
    "     'Alabama': 'Montgomery',\n",
    "        'Alaska': 'Juneau',\n",
    "        'Arizona':'Phoenix',\n",
    "        'Arkansas':'Little Rock',\n",
    "        'California': 'Sacramento',\n",
    "        'Colorado':'Denver',\n",
    "        'Connecticut':'Hartford',\n",
    "        'Delaware':'Dover',\n",
    "        'Florida': 'Tallahassee',\n",
    "        'Georgia': 'Atlanta',\n",
    "        'Hawaii': 'Honolulu',\n",
    "        'Idaho': 'Boise',\n",
    "        'Illinios': 'Springfield',\n",
    "        'Indiana': 'Indianapolis',\n",
    "        'Iowa': 'Des Monies',\n",
    "        'Kansas': 'Topeka',\n",
    "        'Kentucky': 'Frankfort',\n",
    "        'Louisiana': 'Baton Rouge',\n",
    "        'Maine': 'Augusta',\n",
    "        'Maryland': 'Annapolis',\n",
    "        'Massachusetts': 'Boston',\n",
    "        'Michigan': 'Lansing',\n",
    "        'Minnesota': 'St. Paul',\n",
    "        'Mississippi': 'Jackson',\n",
    "        'Missouri': 'Jefferson City',\n",
    "        'Montana': 'Helena',\n",
    "        'Nebraska': 'Lincoln',\n",
    "        'Neveda': 'Carson City',\n",
    "        'New Hampshire': 'Concord',\n",
    "        'New Jersey': 'Trenton',\n",
    "        'New Mexico': 'Santa Fe',\n",
    "        'New York': 'Albany',\n",
    "        'North Carolina': 'Raleigh',\n",
    "        'North Dakota': 'Bismarck',\n",
    "        'Ohio': 'Columbus',\n",
    "        'Oklahoma': 'Oklahoma City',\n",
    "        'Oregon': 'Salem',\n",
    "        'Pennsylvania': 'Harrisburg',\n",
    "        'Rhoda Island': 'Providence',\n",
    "        'South Carolina': 'Columbia',\n",
    "        'South Dakota': 'Pierre',\n",
    "        'Tennessee': 'Nashville',\n",
    "        'Texas': 'Austin',\n",
    "        'Utah': 'Salt Lake City',\n",
    "        'Vermont': 'Montpelier',\n",
    "        'Virginia': 'Richmond',\n",
    "        'Washington': 'Olympia',\n",
    "        'West Virginia': 'Charleston',\n",
    "        'Wisconsin': 'Madison',\n",
    "        'Wyoming': 'Cheyenne'}"
   ]
  },
  {
   "cell_type": "code",
   "execution_count": 5,
   "metadata": {},
   "outputs": [
    {
     "name": "stdout",
     "output_type": "stream",
     "text": [
      "['Indianapolis', 'Oklahoma City']\n"
     ]
    }
   ],
   "source": [
    "#Q2\n",
    "capitallist = [] #initialize empty list\n",
    "for state, capital in capitals.items(): #check through list of tuple pairs\n",
    "    if state in capital: #if state is in capital, append result to capitallist\n",
    "        capitallist.append(capital)\n",
    "print(capitallist) #print list"
   ]
  },
  {
   "cell_type": "code",
   "execution_count": 6,
   "metadata": {},
   "outputs": [],
   "source": [
    "#Q3\n",
    "def isIn(a,b,c) :\n",
    "    if (c[0] >= a[0] and c[0] <= b[0] and \n",
    "        c[1] >= a[1] and c[1] <= b[1]) : #check if point is within boundary\n",
    "        return True\n",
    "    else : \n",
    "        return False"
   ]
  },
  {
   "cell_type": "code",
   "execution_count": 7,
   "metadata": {},
   "outputs": [
    {
     "data": {
      "text/plain": [
       "False"
      ]
     },
     "execution_count": 7,
     "metadata": {},
     "output_type": "execute_result"
    }
   ],
   "source": [
    "a = (-1,0)\n",
    "b=(5,5)\n",
    "c=(6,0)\n",
    "isIn(a,b,c)"
   ]
  },
  {
   "cell_type": "code",
   "execution_count": 10,
   "metadata": {},
   "outputs": [],
   "source": [
    "#Q4\n",
    "def allIn(a,b,c):\n",
    "    i = 0\n",
    "    for k,j in c:\n",
    "        if (k >= a[0] and k <= b[0] and #check if each tuple pair in list is within boundary\n",
    "        j >= a[1] and j <= b[1]): \n",
    "            i +=1\n",
    "            if i == len (c): #counter to ensure loop goes through tuple list\n",
    "                return True\n",
    "        else:\n",
    "            return False"
   ]
  },
  {
   "cell_type": "code",
   "execution_count": 11,
   "metadata": {},
   "outputs": [
    {
     "data": {
      "text/plain": [
       "False"
      ]
     },
     "execution_count": 11,
     "metadata": {},
     "output_type": "execute_result"
    }
   ],
   "source": [
    "a=(0,0)\n",
    "b=(5,5)\n",
    "c=[(1.5,1),(0,1),(9,5)]\n",
    "allIn(a,b,c)"
   ]
  },
  {
   "cell_type": "code",
   "execution_count": null,
   "metadata": {},
   "outputs": [],
   "source": []
  }
 ],
 "metadata": {
  "kernelspec": {
   "display_name": "Python 3",
   "language": "python",
   "name": "python3"
  },
  "language_info": {
   "codemirror_mode": {
    "name": "ipython",
    "version": 3
   },
   "file_extension": ".py",
   "mimetype": "text/x-python",
   "name": "python",
   "nbconvert_exporter": "python",
   "pygments_lexer": "ipython3",
   "version": "3.7.1"
  }
 },
 "nbformat": 4,
 "nbformat_minor": 2
}
